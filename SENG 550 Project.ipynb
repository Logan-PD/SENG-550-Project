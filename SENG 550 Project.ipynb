{
 "cells": [
  {
   "cell_type": "code",
   "execution_count": 0,
   "metadata": {
    "application/vnd.databricks.v1+cell": {
     "cellMetadata": {
      "byteLimit": 2048000,
      "rowLimit": 10000
     },
     "inputWidgets": {},
     "nuid": "f5c5ab32-cbbd-4007-a11a-a9b826a9ae8e",
     "showTitle": false,
     "title": ""
    }
   },
   "outputs": [],
   "source": [
    "# read all csv files into a single RDD\n",
    "import os.path\n",
    "\n",
    "# reads all filenames that match the patter. Currently only two within the DBFS, 0819 and 0820\n",
    "files = '/FileStore/shared_uploads/logan.perrydin@ucalgary.ca/*_UkraineCombinedTweetsDeduped.csv'\n",
    "tweets = spark.read.csv(files,header=True,sep=\",\",multiLine=True)"
   ]
  },
  {
   "cell_type": "code",
   "execution_count": 0,
   "metadata": {
    "application/vnd.databricks.v1+cell": {
     "cellMetadata": {
      "byteLimit": 2048000,
      "rowLimit": 10000
     },
     "inputWidgets": {},
     "nuid": "44f66fdf-f3d6-48de-8aba-f52bff4340cb",
     "showTitle": false,
     "title": ""
    }
   },
   "outputs": [
    {
     "output_type": "stream",
     "name": "stdout",
     "output_type": "stream",
     "text": [
      "+---+---------+--------------+--------------------+------------+---------+---------+-----------+--------------------+-------------------+-------------------+------------+--------------------+--------------------+--------+-----------+--------------+----------+\n|_c0|   userid|      username|            acctdesc|    location|following|followers|totaltweets|       usercreatedts|            tweetid|     tweetcreatedts|retweetcount|                text|            hashtags|language|coordinates|favorite_count|is_retweet|\n+---+---------+--------------+--------------------+------------+---------+---------+-----------+--------------------+-------------------+-------------------+------------+--------------------+--------------------+--------+-----------+--------------+----------+\n|  0|173212647|JoeMokolobetsi|Yeshua Hamashiach...|Afrika Borwa|      219|      197|       4789|2010-07-31 19:09:...|1560416252937617411|2022-08-19 00:00:00|           0|Dear vaccine advo...|[{'text': 'Pfizer...|      en|       null|             0|     False|\n+---+---------+--------------+--------------------+------------+---------+---------+-----------+--------------------+-------------------+-------------------+------------+--------------------+--------------------+--------+-----------+--------------+----------+\nonly showing top 1 row\n\nOut[2]: 'Dear vaccine advocate\\n\\nDo take the COVID19 mRNA shot and boosters, but do know that @OurWorldInData data shows it offers zero protection, actually accelerates death of vaccinated.\\n\\nRegards\\n#Pfizer #AstraZeneca #Moderna #NWO #Agenda2030 #COP27 #Biden #Obama #Trudeau #Jacinda #life https://t.co/VTbfuqiDvu'"
     ]
    }
   ],
   "source": [
    "# remove columns not needed\n",
    "dropped_tweets = tweets.drop(\"original_tweet_id\", \\\n",
    "                            \"original_tweet_userid\", \\\n",
    "                            \"original_tweet_username\", \\\n",
    "                            \"in_reply_to_status_id\", \\\n",
    "                            \"in_reply_to_user_id\", \\\n",
    "                            \"in_reply_to_screen_name\", \\\n",
    "                            \"is_quote_status\", \\\n",
    "                            \"quoted_status_id\", \\\n",
    "                            \"quoted_status_userid\", \\\n",
    "                            \"quoted_status_username\", \\\n",
    "                            \"extractedts\")\n",
    "\n",
    "dropped_tweets.show(1)\n",
    "\n",
    "dropped_tweets.first()['text']"
   ]
  },
  {
   "cell_type": "code",
   "execution_count": 0,
   "metadata": {
    "application/vnd.databricks.v1+cell": {
     "cellMetadata": {
      "byteLimit": 2048000,
      "rowLimit": 10000
     },
     "inputWidgets": {},
     "nuid": "beac797f-ca81-4595-9479-e78524833a0c",
     "showTitle": false,
     "title": ""
    }
   },
   "outputs": [
    {
     "output_type": "stream",
     "name": "stdout",
     "output_type": "stream",
     "text": [
      "+---+-------------------+---------------+--------------------+------------+---------+---------+-----------+--------------------+-------------------+-------------------+------------+--------------------+--------------------+--------+-----------+--------------+----------+\n|_c0|             userid|       username|            acctdesc|    location|following|followers|totaltweets|       usercreatedts|            tweetid|     tweetcreatedts|retweetcount|                text|            hashtags|language|coordinates|favorite_count|is_retweet|\n+---+-------------------+---------------+--------------------+------------+---------+---------+-----------+--------------------+-------------------+-------------------+------------+--------------------+--------------------+--------+-----------+--------------+----------+\n|  0|          173212647| JoeMokolobetsi|Yeshua Hamashiach...|Afrika Borwa|      219|      197|       4789|2010-07-31 19:09:...|1560416252937617411|2022-08-19 00:00:00|           0|Dear vaccine advo...|[{'text': 'Pfizer...|      en|       null|             0|     False|\n|  2|1512400441103032323|ShelterAnimalUA|Shelter for aband...|     Ukraine|      782|      109|       1198|2022-04-08 12:02:...|1560416257752666113|2022-08-19 00:00:01|           0|Animal shelter Do...|[{'text': 'Ukrain...|      en|       null|             1|     False|\n|  3|1356632630662430722|DogandCatHelpe1|Shelter for aband...|     Ukraine|        5|       39|        690|2021-02-02 15:57:...|1560416257790382081|2022-08-19 00:00:01|           0|Welcome to our sh...|[{'text': 'Ukrain...|      en|       null|             2|     False|\n|  5|1453260685530603528|GermanyInSEAsia|A public diplomac...|        null|      129|     2509|        522|2021-10-27 07:22:...|1560416258461298689|2022-08-19 00:00:01|           0|👇 Good news you ...|[{'text': 'humani...|      en|       null|             0|     False|\n|  6|           15968273|    Foxmental_X|1/2 my posts will...|         NYC|     6013|     6546|     308820|2008-08-24 12:06:...|1560416263557505024|2022-08-19 00:00:03|           0|Opinion: The Ukra...|[{'text': 'Ukrain...|      en|       null|             0|     False|\n+---+-------------------+---------------+--------------------+------------+---------+---------+-----------+--------------------+-------------------+-------------------+------------+--------------------+--------------------+--------+-----------+--------------+----------+\nonly showing top 5 rows\n\n"
     ]
    }
   ],
   "source": [
    "# get only english tweets\n",
    "english_tweets = dropped_tweets.filter(dropped_tweets.language == \"en\" )\n",
    "english_tweets.show(5)"
   ]
  },
  {
   "cell_type": "code",
   "execution_count": 0,
   "metadata": {
    "application/vnd.databricks.v1+cell": {
     "cellMetadata": {
      "byteLimit": 2048000,
      "rowLimit": 10000
     },
     "inputWidgets": {},
     "nuid": "206a62ff-9baa-4c98-97d6-774cbbc35cdd",
     "showTitle": false,
     "title": ""
    }
   },
   "outputs": [
    {
     "output_type": "stream",
     "name": "stdout",
     "output_type": "stream",
     "text": [
      "+---+-------------------+---------------+--------------------+------------+---------+---------+-----------+--------------------+-------------------+-------------------+------------+--------------------+--------------------+--------+-----------+--------------+----------+\n|_c0|             userid|       username|            acctdesc|    location|following|followers|totaltweets|       usercreatedts|            tweetid|     tweetcreatedts|retweetcount|                text|            hashtags|language|coordinates|favorite_count|is_retweet|\n+---+-------------------+---------------+--------------------+------------+---------+---------+-----------+--------------------+-------------------+-------------------+------------+--------------------+--------------------+--------+-----------+--------------+----------+\n|  0|          173212647| JoeMokolobetsi|Yeshua Hamashiach...|Afrika Borwa|      219|      197|       4789|2010-07-31 19:09:...|1560416252937617411|2022-08-19 00:00:00|           0|Dear vaccine advo...|[{'text': 'Pfizer...|      en|       null|             0|     False|\n|  2|1512400441103032323|ShelterAnimalUA|Shelter for aband...|     Ukraine|      782|      109|       1198|2022-04-08 12:02:...|1560416257752666113|2022-08-19 00:00:01|           0|Animal shelter Do...|[{'text': 'Ukrain...|      en|       null|             1|     False|\n|  3|1356632630662430722|DogandCatHelpe1|Shelter for aband...|     Ukraine|        5|       39|        690|2021-02-02 15:57:...|1560416257790382081|2022-08-19 00:00:01|           0|Welcome to our sh...|[{'text': 'Ukrain...|      en|       null|             2|     False|\n|  5|1453260685530603528|GermanyInSEAsia|A public diplomac...|        null|      129|     2509|        522|2021-10-27 07:22:...|1560416258461298689|2022-08-19 00:00:01|           0|👇 Good news you ...|[{'text': 'humani...|      en|       null|             0|     False|\n|  6|           15968273|    Foxmental_X|1/2 my posts will...|         NYC|     6013|     6546|     308820|2008-08-24 12:06:...|1560416263557505024|2022-08-19 00:00:03|           0|Opinion: The Ukra...|[{'text': 'Ukrain...|      en|       null|             0|     False|\n+---+-------------------+---------------+--------------------+------------+---------+---------+-----------+--------------------+-------------------+-------------------+------------+--------------------+--------------------+--------+-----------+--------------+----------+\nonly showing top 5 rows\n\n"
     ]
    }
   ],
   "source": [
    "# get only non-retweets\n",
    "non_rt_tweets = english_tweets.filter(english_tweets.is_retweet == \"False\")\n",
    "non_rt_tweets.show(5)"
   ]
  },
  {
   "cell_type": "code",
   "execution_count": 0,
   "metadata": {
    "application/vnd.databricks.v1+cell": {
     "cellMetadata": {
      "byteLimit": 2048000,
      "rowLimit": 10000
     },
     "inputWidgets": {},
     "nuid": "9c867ef4-25cf-4b87-886e-228a9e7643f9",
     "showTitle": false,
     "title": ""
    }
   },
   "outputs": [
    {
     "output_type": "stream",
     "name": "stdout",
     "output_type": "stream",
     "text": [
      "+---------------+------------------+\n|       username|avg_tweets_per_day|\n+---------------+------------------+\n|       01_coins|               1.0|\n|      0_weimar2|               1.0|\n|    2Freelancer|               1.0|\n|         3dKan3|               1.5|\n|    4HumanUnity|               1.0|\n|      50YOFrosh|               1.0|\n|        5tuxnet|               2.0|\n|      64BakerSt|               1.0|\n|        73RDARM|               1.5|\n|    77WABCradio|               1.0|\n|7H2mBetXwVbzV8N|2.3333333333333335|\n|     8tracBrown|               1.0|\n|       99erNews|               4.0|\n|    AB1solution|               1.0|\n|   ACAPSproject|               1.0|\n|      ACLEDINFO|               1.5|\n|ADFCFUTUREFOREX|               1.0|\n|      AE_ValMan|               1.0|\n|      AIReDaily|               1.0|\n|     AK47319026|               1.0|\n+---------------+------------------+\nonly showing top 20 rows\n\n"
     ]
    }
   ],
   "source": [
    "# get average number of tweets per day from each user\n",
    "\n",
    "from pyspark.sql.functions import col, to_date\n",
    "from pyspark.sql.window import Window\n",
    "from pyspark.sql import functions as F\n",
    "\n",
    "# make copy of dataframe and convert each tweet created time stamp into a time stamp object\n",
    "df = non_rt_tweets\n",
    "df = df.withColumn(\"date\", to_date(col(\"tweetcreatedts\")))\n",
    "\n",
    "# create window partitioned by user and ordered by date\n",
    "window = Window.partitionBy(\"username\").orderBy(\"date\")\n",
    "\n",
    "# Calculate the number of tweets per day for each user\n",
    "df = df.withColumn(\"daily_tweet_count\", F.count(\"text\").over(window))\n",
    "\n",
    "# Calculate the average number of tweets per day for each user\n",
    "result_df = df.groupBy(\"username\").agg(\n",
    "    F.avg(\"daily_tweet_count\").alias(\"avg_tweets_per_day\")\n",
    ")\n",
    "\n",
    "#result_df.show()\n",
    "result_df.sample(0.5).show()\n"
   ]
  },
  {
   "cell_type": "code",
   "execution_count": 0,
   "metadata": {
    "application/vnd.databricks.v1+cell": {
     "cellMetadata": {
      "byteLimit": 2048000,
      "rowLimit": 10000
     },
     "inputWidgets": {},
     "nuid": "07e3870e-2165-495d-8301-ab524d797f8d",
     "showTitle": false,
     "title": ""
    }
   },
   "outputs": [
    {
     "output_type": "stream",
     "name": "stdout",
     "output_type": "stream",
     "text": [
      "Collecting textblob\n  Downloading textblob-0.17.1-py2.py3-none-any.whl (636 kB)\nCollecting nltk>=3.1\n  Downloading nltk-3.8.1-py3-none-any.whl (1.5 MB)\nCollecting tqdm\n  Downloading tqdm-4.66.1-py3-none-any.whl (78 kB)\nRequirement already satisfied: click in /databricks/python3/lib/python3.9/site-packages (from nltk>=3.1->textblob) (8.0.4)\nCollecting regex>=2021.8.3\n  Downloading regex-2023.10.3-cp39-cp39-manylinux_2_17_x86_64.manylinux2014_x86_64.whl (773 kB)\nRequirement already satisfied: joblib in /databricks/python3/lib/python3.9/site-packages (from nltk>=3.1->textblob) (1.1.1)\nInstalling collected packages: tqdm, regex, nltk, textblob\nSuccessfully installed nltk-3.8.1 regex-2023.10.3 textblob-0.17.1 tqdm-4.66.1\nWARNING: You are using pip version 21.2.4; however, version 23.3.1 is available.\nYou should consider upgrading via the '/local_disk0/.ephemeral_nfs/envs/pythonEnv-a950f82f-011d-4b97-ac1a-18f482849e78/bin/python -m pip install --upgrade pip' command.\n"
     ]
    }
   ],
   "source": [
    "%sh pip install textblob"
   ]
  },
  {
   "cell_type": "code",
   "execution_count": 0,
   "metadata": {
    "application/vnd.databricks.v1+cell": {
     "cellMetadata": {
      "byteLimit": 2048000,
      "rowLimit": 10000
     },
     "inputWidgets": {},
     "nuid": "6b4076be-f7bf-470c-a304-7d512de8592f",
     "showTitle": false,
     "title": ""
    }
   },
   "outputs": [
    {
     "output_type": "stream",
     "name": "stdout",
     "output_type": "stream",
     "text": [
      "+---------------+--------------------+\n|       username|  avg_sentimentality|\n+---------------+--------------------+\n|ArthurM40330824|0.015348638807024275|\n|         radezz|-0.01547618742500...|\n|    Readone_001|              -0.125|\n|     sunnypeony|  -0.550000011920929|\n|  thetribunechd|-0.02500000037252903|\n|       yugan___|0.022975646345964017|\n| bloomsbury1918|-0.03951785632719596|\n|    pratik_dhal| 0.03333333507180214|\n|     EMBUkraine|-0.01500000059604...|\n|      ETTelecom|                 0.0|\n|        Trontir| 0.19270833395421505|\n|    revishvilig| 0.07142857302512441|\n|        WebVixn|-0.04374999925494194|\n|  f_o_r_Ukraine|-0.00154735900562...|\n|madeleinemaste4| 0.29121121764183044|\n|   ChrishaModis| 0.33312290410200757|\n|      godabalta|                 0.0|\n|UkraineNowMedia|                 0.0|\n|   jay_dee_akaa|  0.6000000238418579|\n|      Hainanftp| 0.07500000298023224|\n+---------------+--------------------+\nonly showing top 20 rows\n\n"
     ]
    }
   ],
   "source": [
    "# calculate average sentiment for each user\n",
    "\n",
    "from pyspark.sql.functions import col, udf\n",
    "from pyspark.sql.types import FloatType\n",
    "from textblob import TextBlob\n",
    "\n",
    "# pass this function to the tweet column\n",
    "def analyze_sentiment(tweet):\n",
    "    analysis = TextBlob(tweet)\n",
    "    return analysis.sentiment.polarity\n",
    "\n",
    "# Register the sentiment analysis function as a Spark UDF\n",
    "sentiment_analysis_udf = udf(analyze_sentiment, FloatType())\n",
    "\n",
    "# Apply sentiment analysis to each tweet and create a new column\n",
    "df = df.withColumn(\"sentiment_score\", sentiment_analysis_udf(col(\"text\")))\n",
    "\n",
    "# Calculate the average sentimentality for each user\n",
    "result_df = df.groupBy(\"username\").agg(\n",
    "    F.avg(\"sentiment_score\").alias(\"avg_sentimentality\")\n",
    ")\n",
    "\n",
    "result_df.show()"
   ]
  },
  {
   "cell_type": "code",
   "execution_count": 0,
   "metadata": {
    "application/vnd.databricks.v1+cell": {
     "cellMetadata": {},
     "inputWidgets": {},
     "nuid": "e2ab9bc4-4ab8-43a9-bec5-73e3517f79eb",
     "showTitle": false,
     "title": ""
    }
   },
   "outputs": [],
   "source": [
    "# Normalize following and followers\n",
    "from pyspark.sql.functions import col, mean, count\n",
    "\n",
    "# Make sure you operate on unique users, in case of duplicates get the average for the user\n",
    "df_unique_users = english_tweets.groupBy(\"username\").agg(\n",
    "    mean(\"followers\").alias(\"followers\"),\n",
    "    mean(\"following\").alias(\"following\"),\n",
    "    count(\"username\")\n",
    ")\n",
    "\n",
    "# Calculate the mean and stddev for followers and following\n",
    "followers_mean = df_unique_users.agg({\"followers\": \"mean\"}).collect()[0][0]\n",
    "followers_stddev = df_unique_users.agg({\"followers\": \"stddev\"}).collect()[0][0]\n",
    "following_mean = df_unique_users.agg({\"following\": \"mean\"}).collect()[0][0]\n",
    "following_stddev = df_unique_users.agg({\"following\": \"stddev\"}).collect()[0][0]\n",
    "\n",
    "# Calculate the z_scores for each entry\n",
    "df_unique_users = df_unique_users.withColumn(\"followers_zscore\", (col(\"followers\") - followers_mean) / followers_stddev)\n",
    "df_unique_users = df_unique_users.withColumn(\"following_zscore\", (col(\"following\") - following_mean) / following_stddev)\n",
    "\n",
    "# Calculate normalized values\n",
    "# 99.7% of the data lie within 3 standard deviations of the mean, these values will be between 0-100, outliers will be outside this range\n",
    "df_unique_users = df_unique_users.withColumn(\"followers_normalized\", ((col(\"followers_zscore\") + 3) / 6)*100)\n",
    "df_unique_users = df_unique_users.withColumn(\"following_normalized\", ((col(\"following_zscore\") + 3) / 6)*100)\n",
    "\n",
    "# Drop unnecessary columns\n",
    "df_normalized_follow = df_unique_users.drop(\"count(username)\", \"followers_zscore\", \"following_zscore\", \"followers\", \"following\")\n",
    "\n",
    "display(df_normalized_follow)"
   ]
  },
  {
   "cell_type": "code",
   "execution_count": 0,
   "metadata": {
    "application/vnd.databricks.v1+cell": {
     "cellMetadata": {},
     "inputWidgets": {},
     "nuid": "3d1f454c-ecf9-413b-9ff7-1f1db6870ebe",
     "showTitle": false,
     "title": ""
    }
   },
   "outputs": [],
   "source": [
    "from pyspark.sql.functions import col, when, expr, count, sum\n",
    "\n",
    "df_retweet_percentage = english_tweets.groupBy(\"username\").agg(sum((col(\"is_retweet\") == \"True\").cast(\"int\")).alias(\"retweet_true_count\"), sum((col(\"is_retweet\") == \"False\").cast(\"int\")).alias(\"retweet_false_count\"))\n",
    "df_retweet_percentage = df_retweet_percentage.withColumn(\"percentage_of_retweets\", 100*(col(\"retweet_true_count\") / (col(\"retweet_true_count\") + col(\"retweet_false_count\"))))\n",
    "# percentage of retweets of a user in comparison to total tweets of the user(including retweets)\n",
    "display(df_retweet_percentage)"
   ]
  },
  {
   "cell_type": "code",
   "execution_count": 0,
   "metadata": {
    "application/vnd.databricks.v1+cell": {
     "cellMetadata": {},
     "inputWidgets": {},
     "nuid": "bba41f8b-5d6e-452a-bd5d-5a92676dd173",
     "showTitle": false,
     "title": ""
    }
   },
   "outputs": [],
   "source": [
    "from pyspark.sql.functions import col, unix_timestamp, current_timestamp, expr\n",
    "from pyspark.sql.types import LongType\n",
    "\n",
    "current_time = current_timestamp()\n",
    "\n",
    "# Truncate the trailing 0s from the usercreatedts field\n",
    "df_dates_transformed = english_tweets.withColumn(\"usercreatedts_truncated\", expr(\"substring(usercreatedts, 1, 19)\"))\n",
    "\n",
    "df_account_age = df_dates_transformed.select(\"username\", \"usercreatedts_truncated\").distinct().groupBy(\"username\", \"usercreatedts_truncated\").agg(\n",
    "    (unix_timestamp(current_time) - unix_timestamp(\"usercreatedts_truncated\")).cast(LongType()).alias(\"account_age\")\n",
    ")\n",
    "# Calculate the mean and stddev for account age\n",
    "account_age_mean = df_account_age.agg({\"account_age\": \"mean\"}).collect()[0][0]\n",
    "account_age_stddev = df_account_age.agg({\"account_age\": \"stddev\"}).collect()[0][0]\n",
    "\n",
    "df_account_age = df_account_age.withColumn(\"account_age_zscore\", (col(\"account_age\") - account_age_mean) / account_age_stddev)\n",
    "df_account_age = df_account_age.withColumn(\"account_age_normalized\", ((col(\"account_age_zscore\") + 3) / 6)*100)\n",
    "df_account_age = df_account_age.drop(\"account_age_zscore\")\n",
    "# normalized account age\n",
    "display(df_account_age)"
   ]
  },
  {
   "cell_type": "code",
   "execution_count": 0,
   "metadata": {
    "application/vnd.databricks.v1+cell": {
     "cellMetadata": {
      "byteLimit": 2048000,
      "rowLimit": 10000
     },
     "inputWidgets": {},
     "nuid": "24d35142-150c-483c-bd65-8b2a9ed852ae",
     "showTitle": false,
     "title": ""
    }
   },
   "outputs": [
    {
     "output_type": "stream",
     "name": "stdout",
     "output_type": "stream",
     "text": [
      "\nUser\n\nUsername: ShelterAnimalUA\n\nTweet:\nAnimal shelter Dogs and Cats, we need your help!\nRaising funds food for animals.\nPayPal: dogandcat.helper@gmail.com\nhttps://t.co/Z3re0ItTfy\nhttps://t.co/I9dbwRrtg0\nhttps://t.co/71pErM8xBZ\n\n#Ukraine #Patreon #dogsoftwitter #Shelter #Dogs #Cats #Cute #Pets #Funny\n#Dogsarefamily https://t.co/HLEnTp9yk7\n\nTweet:\nAnimal shelter Dogs and Cats, we need your help!\nRaising funds food for animals.\nPayPal: dogandcat.helper@gmail.com\nhttps://t.co/Z3re0ILu76\nhttps://t.co/I9dbwRJ47y\nhttps://t.co/71pErLQWdp\n\n#Ukraine #Patreon #dogsoftwitter #Shelter #Dogs #Cats #Cute #Pets #Funny\n#Dogsarefamily https://t.co/Qd9JTcDVRY\n\nTweet:\nAnimal shelter Dogs and Cats, we need your help!\nRaising funds food for animals.\nPayPal: dogandcat.helper@gmail.com\nhttps://t.co/Z3re0ILu76\nhttps://t.co/I9dbwRJ47y\nhttps://t.co/71pErLQWdp\n\n#Ukraine #Patreon #dogsoftwitter #Shelter #Dogs #Cats #Cute #Pets #Funny\n#Dogsarefamily https://t.co/zXSzcodN8P\n\nTweet:\nAnimal shelter Dogs and Cats, we need your help!\nRaising funds food for animals.\nPayPal: dogandcat.helper@gmail.com\nhttps://t.co/Z3re0ItTfy\nhttps://t.co/I9dbwRrtg0\nhttps://t.co/71pErM8xBZ\n\n#Ukraine #Patreon #dogsoftwitter #Shelter #Dogs #Cats #Cute #Pets #Funny\n#Dogsarefamily https://t.co/FWdlN8FZLO\n\nTweet:\nAnimal shelter Dogs and Cats, we need your help!\nRaising funds food for animals.\nPayPal: dogandcat.helper@gmail.com\nhttps://t.co/Z3re0ItTfy\nhttps://t.co/I9dbwRrtg0\nhttps://t.co/71pErM8xBZ\n\n#Ukraine #Patreon #dogsoftwitter #Shelter #Dogs #Cats #Cute #Pets #Funny\n#Dogsarefamily https://t.co/ENaolNnV7X\n\nTweet:\nAnimal shelter Dogs and Cats, we need your help!\nRaising funds food for animals.\nPayPal: dogandcat.helper@gmail.com\nhttps://t.co/Z3re0ILu76\nhttps://t.co/I9dbwRJ47y\nhttps://t.co/71pErLQWdp\n\n#Ukraine #Patreon #dogsoftwitter #Shelter #Dogs #Cats #Cute #Pets #Funny\n#Dogsarefamily https://t.co/bc1a8v9JDH\n\nTweet:\nAnimal shelter Dogs and Cats, we need your help!\nRaising funds food for animals.\nPayPal: dogandcat.helper@gmail.com\nhttps://t.co/Z3re0ItTfy\nhttps://t.co/I9dbwRrtg0\nhttps://t.co/71pErM8xBZ\n\n#Ukraine #Patreon #dogsoftwitter #Shelter #Dogs #Cats #Cute #Pets #Funny\n#Dogsarefamily https://t.co/58yNpBhUi8\n\nTweet:\nAnimal shelter Dogs and Cats, we need your help!\nRaising funds food for animals.\nPayPal: dogandcat.helper@gmail.com\nhttps://t.co/Z3re0ItTfy\nhttps://t.co/I9dbwRrtg0\nhttps://t.co/71pErM8xBZ\n\n#Ukraine #Patreon #dogsoftwitter #Shelter #Dogs #Cats #Cute #Pets #Funny\n#Dogsarefamily https://t.co/DWN0Y9s0jl\n\nTweet:\nAnimal shelter Dogs and Cats, we need your help!\nRaising funds food for animals.\nPayPal: dogandcat.helper@gmail.com\nhttps://t.co/Z3re0ILu76\nhttps://t.co/I9dbwRJ47y\nhttps://t.co/71pErLQWdp\n\n#Ukraine #Patreon #dogsoftwitter #Shelter #Dogs #Cats #Cute #Pets #Funny\n#Dogsarefamily https://t.co/cL48H8qhwm\n\nTweet:\nAnimal shelter Dogs and Cats, we need your help!\nRaising funds food for animals.\nPayPal: dogandcat.helper@gmail.com\nhttps://t.co/Z3re0ILu76\nhttps://t.co/I9dbwRJ47y\nhttps://t.co/71pErLQWdp\n\n#Ukraine #Patreon #dogsoftwitter #Shelter #Dogs #Cats #Cute #Pets #Funny\n#Dogsarefamily https://t.co/xyQJEqCZym\n\nTweet:\nAnimal shelter Dogs and Cats, we need your help!\nRaising funds food for animals.\nPayPal: dogandcat.helper@gmail.com\nhttps://t.co/Z3re0ItTfy\nhttps://t.co/I9dbwRrtg0\nhttps://t.co/71pErM8xBZ\n\n#Ukraine #Patreon #dogsoftwitter #Shelter #Dogs #Cats #Cute #Pets #Funny\n#Dogsarefamily https://t.co/WnBUMx6Zhe\n\nTweet:\nAnimal shelter Dogs and Cats, we need your help!\nRaising funds food for animals.\nPayPal: dogandcat.helper@gmail.com\nhttps://t.co/Z3re0ILu76\nhttps://t.co/I9dbwRJ47y\nhttps://t.co/71pErLQWdp\n\n#Ukraine #Patreon #dogsoftwitter #Shelter #Dogs #Cats #Cute #Pets #Funny\n#Dogsarefamily https://t.co/nd2pvXclQ8\n\nTweet:\nAnimal shelter Dogs and Cats, we need your help!\nRaising funds food for animals.\nPayPal: dogandcat.helper@gmail.com\nhttps://t.co/Z3re0ILu76\nhttps://t.co/I9dbwRJ47y\nhttps://t.co/71pErLQWdp\n\n#Ukraine #Patreon #dogsoftwitter #Shelter #Dogs #Cats #Cute #Pets #Funny\n#Dogsarefamily https://t.co/2aCzW5IgHv\n\nTweet:\nAnimal shelter Dogs and Cats, we need your help!\nRaising funds food for animals.\nPayPal: dogandcat.helper@gmail.com\nhttps://t.co/Z3re0ItTfy\nhttps://t.co/I9dbwRrtg0\nhttps://t.co/71pErM8xBZ\n\n#Ukraine #Patreon #dogsoftwitter #Shelter #Dogs #Cats #Cute #Pets #Funny\n#Dogsarefamily https://t.co/pD1GwKx7ln\n\nTweet:\nAnimal shelter Dogs and Cats, we need your help!\nRaising funds food for animals.\nPayPal: dogandcat.helper@gmail.com\nhttps://t.co/Z3re0ItTfy\nhttps://t.co/I9dbwRrtg0\nhttps://t.co/71pErM8xBZ\n\n#Ukraine #Patreon #dogsoftwitter #Shelter #Dogs #Cats #Cute #Pets #Funny\n#Dogsarefamily https://t.co/M86lo54WST\n\nTweet:\nAnimal shelter Dogs and Cats, we need your help!\nRaising funds food for animals.\nPayPal: dogandcat.helper@gmail.com\nhttps://t.co/Z3re0ILu76\nhttps://t.co/I9dbwRJ47y\nhttps://t.co/71pErLQWdp\n\n#Ukraine #Patreon #dogsoftwitter #Shelter #Dogs #Cats #Cute #Pets #Funny\n#Dogsarefamily https://t.co/O4RZ2Y6Qbw\n\nTweet:\nAnimal shelter Dogs and Cats, we need your help!\nRaising funds food for animals.\nPayPal: dogandcat.helper@gmail.com\nhttps://t.co/Z3re0ItTfy\nhttps://t.co/I9dbwRrtg0\nhttps://t.co/71pErM8xBZ\n\n#Ukraine #Patreon #dogsoftwitter #Shelter #Dogs #Cats #Cute #Pets #Funny\n#Dogsarefamily https://t.co/4MgMZoN5nv\n\nTweet:\nAnimal shelter Dogs and Cats, we need your help!\nRaising funds food for animals.\nPayPal: dogandcat.helper@gmail.com\nhttps://t.co/Z3re0ILu76\nhttps://t.co/I9dbwRJ47y\nhttps://t.co/71pErLQWdp\n\n#Ukraine #Patreon #dogsoftwitter #Shelter #Dogs #Cats #Cute #Pets #Funny\n#Dogsarefamily https://t.co/psGTTx2uyI\n\nTweet:\nAnimal shelter Dogs and Cats, we need your help!\nRaising funds food for animals.\nPayPal: dogandcat.helper@gmail.com\nhttps://t.co/Z3re0ILu76\nhttps://t.co/I9dbwRJ47y\nhttps://t.co/71pErLQWdp\n\n#Ukraine #Patreon #dogsoftwitter #Shelter #Dogs #Cats #Cute #Pets #Funny\n#Dogsarefamily https://t.co/6CoTs6JqgG\n\nTweet:\nAnimal shelter Dogs and Cats, we need your help!\nRaising funds food for animals.\nPayPal: dogandcat.helper@gmail.com\nhttps://t.co/Z3re0ItTfy\nhttps://t.co/I9dbwRrtg0\nhttps://t.co/71pErM8xBZ\n\n#Ukraine #Patreon #dogsoftwitter #Shelter #Dogs #Cats #Cute #Pets #Funny\n#Dogsarefamily https://t.co/4IZ0pflQb8\n\nTweet:\nAnimal shelter Dogs and Cats, we need your help!\nRaising funds food for animals.\nPayPal: dogandcat.helper@gmail.com\nhttps://t.co/Z3re0ItTfy\nhttps://t.co/I9dbwRrtg0\nhttps://t.co/71pErM8xBZ\n\n#Ukraine #Patreon #dogsoftwitter #Shelter #Dogs #Cats #Cute #Pets #Funny\n#Dogsarefamily https://t.co/BgWOlgNpt3\n\nTweet:\nAnimal shelter Dogs and Cats, we need your help!\nRaising funds food for animals.\nPayPal: dogandcat.helper@gmail.com\nhttps://t.co/Z3re0ItTfy\nhttps://t.co/I9dbwRrtg0\nhttps://t.co/71pErM8xBZ\n\n#Ukraine #Patreon #dogsoftwitter #Shelter #Dogs #Cats #Cute #Pets #Funny\n#Dogsarefamily https://t.co/p1S4F3obnQ\n\nTweet:\nAnimal shelter Dogs and Cats, we need your help!\nRaising funds food for animals.\nPayPal: dogandcat.helper@gmail.com\nhttps://t.co/Z3re0ILu76\nhttps://t.co/I9dbwRJ47y\nhttps://t.co/71pErLQWdp\n\n#Ukraine #Patreon #dogsoftwitter #Shelter #Dogs #Cats #Cute #Pets #Funny\n#Dogsarefamily https://t.co/LUaqgAB4NH\n\nTweet:\nAnimal shelter Dogs and Cats, we need your help!\nRaising funds food for animals.\nPayPal: dogandcat.helper@gmail.com\nhttps://t.co/Z3re0ItTfy\nhttps://t.co/I9dbwRrtg0\nhttps://t.co/71pErM8xBZ\n\n#Ukraine #Patreon #dogsoftwitter #Shelter #Dogs #Cats #Cute #Pets #Funny\n#Dogsarefamily https://t.co/Oft7RyRM6N\n\nTweet:\nAnimal shelter Dogs and Cats, we need your help!\nRaising funds food for animals.\nPayPal: dogandcat.helper@gmail.com\nhttps://t.co/Z3re0ItTfy\nhttps://t.co/I9dbwRrtg0\nhttps://t.co/71pErM8xBZ\n\n#Ukraine #Patreon #dogsoftwitter #Shelter #Dogs #Cats #Cute #Pets #Funny\n#Dogsarefamily https://t.co/pwtqniXjvt\n\nTweet:\nAnimal shelter Dogs and Cats, we need your help!\nRaising funds food for animals.\nPayPal: dogandcat.helper@gmail.com\nhttps://t.co/Z3re0ItTfy\nhttps://t.co/I9dbwRrtg0\nhttps://t.co/71pErM8xBZ\n\n#Ukraine #Patreon #dogsoftwitter #Shelter #Dogs #Cats #Cute #Pets #Funny\n#Dogsarefamily https://t.co/O3PNcw5L7h\n\nTweet:\nAnimal shelter Dogs and Cats, we need your help!\nRaising funds food for animals.\nPayPal: dogandcat.helper@gmail.com\nhttps://t.co/Z3re0ILu76\nhttps://t.co/I9dbwRJ47y\nhttps://t.co/71pErLQWdp\n\n#Ukraine #Patreon #dogsoftwitter #Shelter #Dogs #Cats #Cute #Pets #Funny\n#Dogsarefamily https://t.co/uCRGWCbs1s\n\nTweet:\nAnimal shelter Dogs and Cats, we need your help!\nRaising funds food for animals.\nPayPal: dogandcat.helper@gmail.com\nhttps://t.co/Z3re0ItTfy\nhttps://t.co/I9dbwRrtg0\nhttps://t.co/71pErM8xBZ\n\n#Ukraine #Patreon #dogsoftwitter #Shelter #Dogs #Cats #Cute #Pets #Funny\n#Dogsarefamily https://t.co/BNVrshNDp2\n\nTweet:\nAnimal shelter Dogs and Cats, we need your help!\nRaising funds food for animals.\nPayPal: dogandcat.helper@gmail.com\nhttps://t.co/Z3re0ItTfy\nhttps://t.co/I9dbwRrtg0\nhttps://t.co/71pErM8xBZ\n\n#Ukraine #Patreon #dogsoftwitter #Shelter #Dogs #Cats #Cute #Pets #Funny\n#Dogsarefamily https://t.co/0Xx2g8kTVk\n\nTweet:\nAnimal shelter Dogs and Cats, we need your help!\nRaising funds food for animals.\nPayPal: dogandcat.helper@gmail.com\nhttps://t.co/Z3re0ILu76\nhttps://t.co/I9dbwRJ47y\nhttps://t.co/71pErLQWdp\n\n#Ukraine #Patreon #dogsoftwitter #Shelter #Dogs #Cats #Cute #Pets #Funny\n#Dogsarefamily https://t.co/TgqXW0rJeV\n\nTweet:\nAnimal shelter Dogs and Cats, we need your help!\nRaising funds food for animals.\nPayPal: dogandcat.helper@gmail.com\nhttps://t.co/Z3re0ItTfy\nhttps://t.co/I9dbwRrtg0\nhttps://t.co/71pErM8xBZ\n\n#Ukraine #Patreon #dogsoftwitter #Shelter #Dogs #Cats #Cute #Pets #Funny\n#Dogsarefamily https://t.co/CCBDvulj3j\n\nTweet:\nAnimal shelter Dogs and Cats, we need your help!\nRaising funds food for animals.\nPayPal: dogandcat.helper@gmail.com\nhttps://t.co/Z3re0ItTfy\nhttps://t.co/I9dbwRrtg0\nhttps://t.co/71pErM8xBZ\n\n#Ukraine #Patreon #dogsoftwitter #Shelter #Dogs #Cats #Cute #Pets #Funny\n#Dogsarefamily https://t.co/g6ZrUus3Qi\n\nTweet:\nAnimal shelter Dogs and Cats, we need your help!\nRaising funds food for animals.\nPayPal: dogandcat.helper@gmail.com\nhttps://t.co/Z3re0ItTfy\nhttps://t.co/I9dbwRrtg0\nhttps://t.co/71pErM8xBZ\n\n#Ukraine #Patreon #dogsoftwitter #Shelter #Dogs #Cats #Cute #Pets #Funny\n#Dogsarefamily https://t.co/ebaK71A3Qa\n\nTweet:\nAnimal shelter Dogs and Cats, we need your help!\nRaising funds food for animals.\nPayPal: dogandcat.helper@gmail.com\nhttps://t.co/Z3re0ILu76\nhttps://t.co/I9dbwRJ47y\nhttps://t.co/71pErLQWdp\n\n#Ukraine #Patreon #dogsoftwitter #Shelter #Dogs #Cats #Cute #Pets #Funny\n#Dogsarefamily https://t.co/2OXVtK99us\n\nTweet:\nAnimal shelter Dogs and Cats, we need your help!\nRaising funds food for animals.\nPayPal: dogandcat.helper@gmail.com\nhttps://t.co/Z3re0ILu76\nhttps://t.co/I9dbwRJ47y\nhttps://t.co/71pErLQWdp\n\n#Ukraine #Patreon #dogsoftwitter #Shelter #Dogs #Cats #Cute #Pets #Funny\n#Dogsarefamily https://t.co/6wpOYUMXSw\n\nTweet:\nAnimal shelter Dogs and Cats, we need your help!\nRaising funds food for animals.\nPayPal: dogandcat.helper@gmail.com\nhttps://t.co/Z3re0ItTfy\nhttps://t.co/I9dbwRrtg0\nhttps://t.co/71pErM8xBZ\n\n#Ukraine #Patreon #dogsoftwitter #Shelter #Dogs #Cats #Cute #Pets #Funny\n#Dogsarefamily https://t.co/sZvoOWiW5J\n\nUser\n\nUsername: GermanyInSEAsia\n\nTweet:\n👇 Good news you may have missed: First @WFP shipment of wheat for #humanitarian operations left #Ukraine on 17 Aug \n\nKey milestone to assist the most vulnerable &amp; affected by the global #food crisis https://t.co/jvkZWi9FBg\n\nTweet:\n❗​Accompanying the attacks on #Zaporizhzhia nuclear power plant in #Ukraine are waves of pro-kremlin #disinformation\n\n@EUvsDisinfo sheds light on concerning new narratives &amp; tactics ⤵️ https://t.co/MlfwzeJSHk\n\nUser\n\nUsername: MilaPlayporn\n\nTweet:\nEthereum's spot setup looks grim, but derivatives data tells a different story\n#cryptocurrency #ukraine #gold #litecoin\nhttps://t.co/32ZmMbOTfy\n\nTweet:\nCryptoPunks creators sign with top Hollywood agents, as sales top $305M in a week\n#DOGE #ukraine #ripple #blockchain\nhttps://t.co/KIa25nqShY\n\nTweet:\nBTC/USD Tests 33138 Technical Resistance:  Sally Ho's Technical Analysis 15 July 2021 BTC\n#russia #blockchain #ukraine #bitcoin\nhttps://t.co/V2t3EVVlyB\n\nTweet:\nAltcoin roundup: Crypto credit cards could be the missing link to mass adoption\n#ukraine #coinbase #news #bitcoin\nhttps://t.co/y6r5zIUN5P\n\nTweet:\nETH/USD Elects Stops Below 2016:  Sally Ho's Technical Analysis 22 June 2021 ETH\n#cryptocurrency #blockchain #bitcoin #ukraine\nhttps://t.co/IExNY4ct2X\n\nTweet:\nVeteran trader explains when it’s the best time to cash out of the market\n#news #russia #crypto #blockchain\nhttps://t.co/Aes9qHxRGI\n\nTweet:\nIndia-based Vauld raises $25 million series A led by Valar, Pantera and Coinbase\n#ukraine #blockchain #DOGE #coinbase\nhttps://t.co/qcdwtIwGi8\n\nTweet:\nSolana price eyes $150 as SOL’s 25% jump this week puts ‘double-bottom’ in play\n#ethereum #ethereum #gold #russia\nhttps://t.co/dA8X1wZCMu\n\nTweet:\nSearch for fiat alternative ‘perfectly reasonable,’ says StanChart CEO\n#coinbase #bitcoin #russia #litecoin\nhttps://t.co/7EPmFL9LKY\n\nTweet:\nUSD/JPY Forex Technical Analysis – Trapped Between Retracement Zones with Reaction to 109.828 Setting the Tone\n#ukraine #ethereum #binance #bitcoin\nhttps://t.co/JXgWh451SQ\n\nTweet:\nVector Finance (VTX) TVL hits a record high as the Curve Wars shift to Avalanche\n#news #trading #ukraine #ethereum\nhttps://t.co/LzZ0zzQcsg\n\nTweet:\nGBTC delivered better returns than Bitcoin ETFs last week\n#binance #ethereum #trading #russia\nhttps://t.co/65l9hzhA5O\n\nTweet:\nBullish cup and handle pattern sets Cardano (ADA) price up for a new ATH\n#btc #russia #blockchain #ripple\nhttps://t.co/Zc2PaYMzeU\n\nTweet:\nAustralians lost over $25 million to bogus crypto investments: Report\n#ethereum #ethereum #crypto #ukraine\nhttps://t.co/VhvCiyqOFG\n\nTweet:\nLaunch of real-world use-case sparks 162% rise in OriginTrail's TRAC token\n#russia #coinbase #ethereum #gold\nhttps://t.co/sQf0Dk20FJ\n\nTweet:\nBTC bull Michael Saylor: Ethereum is 'obviously' a security\n#binance #coinbase #russia #ripple\nhttps://t.co/KM2tEMVsC6\n\nTweet:\nAave price hits two-month high on Wall Street’s DeFi adoption hopes\n#ukraine #bitcoin #ethereum #news\nhttps://t.co/8ft8nbDUvG\n\nTweet:\nSanto Blockchain to deliver 50 Bitcoin ATMs to Panama\n#cryptocurrency #ripple #ukraine #binance\nhttps://t.co/vgZkqv0ahs\n\nTweet:\nCoinSwap Space Opens Staking Pool With $ADA Rewards\n#bitcoin #ELON #blockchain #russia\nhttps://t.co/UVKZdkDdja\n\nTweet:\nHow Dubai is embracing Cryptocurrencies\n#news #russia #crypto #eth\nhttps://t.co/FMXLN6tRXe\n\nTweet:\nIndian crypto exchange CoinSwitch Kuber raises $260M\n#ukraine #ethereum #blockchain #bitcoin\nhttps://t.co/R3NDWGmWnb\n\nTweet:\nSEC dismisses claims against John McAfee, fines accomplice for ICO promo\n#russia #ethereum #ethereum #bitcoin\nhttps://t.co/Eay8Dl4sfw\n\nTweet:\nWill Silver Outperform Gold In Q3 2021?\n#news #bitcoin #ukraine #DOGE\nhttps://t.co/3cYne25OrW\n\nTweet:\nHelium partners with Dish Network to expand its crypto-based distributed 5G platform\n#ethereum #trading #litecoin #russia\nhttps://t.co/zOltnsPBiU\n\nTweet:\nOjamu combines AI and NFTs to predict the most effective digital marketing strategy\n#ELON #ukraine #gold #blockchain\nhttps://t.co/iRhF5hEJ89\n\nTweet:\nEthereum, Litecoin, and Ripple’s XRP – Daily Tech Analysis – July 28th, 2021\n#cryptocurrency #russia #ripple #bitcoin\nhttps://t.co/EegkvAQAge\n\nTweet:\nDeFi protocol BENQI hits $1B TVL days after launching\n#coinbase #ukraine #ethereum #btc\nhttps://t.co/4ZIKcFhCBP\n\nTweet:\nCircle's USDC on track to topple Tether USDT as the top stablecoin in 2022\n#news #ukraine #trading #cryptocurrency\nhttps://t.co/WQImtNK4Wo\n\nTweet:\nCrypto tax deters 83% Indian investors from crypto trading: WaxirX report\n#ELON #russia #news #ukraine\nhttps://t.co/pJiMbS94bp\n\nTweet:\nHong Kong firm to offer insurance for Asian cryptocurrency holdings\n#litecoin #ukraine #DOGE #binance\nhttps://t.co/dxMiYY0WXb\n\nTweet:\nEthereum, Litecoin, and Ripple’s XRP – Daily Tech Analysis – September 24th, 2021\n#russia #eth #news #ripple\nhttps://t.co/NJOjpRR69I\n\nTweet:\nAnalysts say ‘impulse move’ could send Ethereum price into the $6K to $14K range\n#cryptocurrency #blockchain #news #ukraine\nhttps://t.co/nhLFJc4tL5\n\nTweet:\nSolana-based stablecoin NIRV drops 85% following $3.5M exploit\n#blockchain #russia #eth #ripple\nhttps://t.co/1e8IolRP4F\n\nTweet:\nElon Musk's Twitter investment puts a 150% rally into play for Dogecoin\n#ethereum #crypto #btc #russia\nhttps://t.co/2c3WhDEz4S\n\nTweet:\nRussian lawmakers prepare legal amendment to confiscate crypto\n#ethereum #ukraine #eth #trading\nhttps://t.co/0DHJX8r2l1\n\nTweet:\nBTC/USD Surges Towards 40000:  Sally Ho's Technical Analysis 27 July 2021 BTC\n#bitcoin #ethereum #cryptocurrency #ukraine\nhttps://t.co/gLf5I31kLY\n\nTweet:\nBrandt’s bearish ETH call — But community predicts $3K before Merge\n#russia #news #DOGE #ukraine\nhttps://t.co/PXf8AhKLZM\n\nTweet:\nNFT sales and floor prices plummet as demand wanes and gas prices soar\n#DOGE #ELON #russia #news\nhttps://t.co/5075T6okb9\n\nTweet:\nRussian Duma wants to regulate crypto mining as business\n#ukraine #russia #ELON #news\nhttps://t.co/pQbRklXlJX\n\nTweet:\n3 reasons why Kadena (KDA) price went on a 500% parabolic frenzy\n#ripple #ukraine #ELON #bitcoin\nhttps://t.co/VKoavOA1QR\n\nTweet:\nChina feels threatened by crypto because it is outside of its control\n#ukraine #DOGE #coinbase #bitcoin\nhttps://t.co/9z9GXDdg2Z\n\nTweet:\nSantander joins Barclays and Natwest to block crypto payments to Binance\n#russia #ethereum #DOGE #litecoin\nhttps://t.co/Zqdz0dELHs\n\nTweet:\nLummis-Gillibrand crypto bill likely deferred to next year\n#ripple #ukraine #news #ethereum\nhttps://t.co/3H2MGOO5sV\n\nTweet:\nYGG-backed Oasys blockchain hopes to take P2E gaming mainstream\n#russia #trading #bitcoin #ELON\nhttps://t.co/t7V4v5RbLz\n\nTweet:\nUpcoming Apple iPhone feature to give merchants a way to accept crypto payments\n#cryptocurrency #ethereum #ukraine #coinbase\nhttps://t.co/6IDgjWEyhg\n\nTweet:\nBitcoin price 'very near bottom' with $30K dip, says bullish institutional report\n#cryptocurrency #bitcoin #ukraine #trading\nhttps://t.co/amBTIVFJqM\n\nTweet:\nEthereum price gets back to $3K as institutional investors pile into ETH futures\n#ELON #russia #ukraine #crypto\nhttps://t.co/1pUDMbgUUX\n\nTweet:\nKomodo (KMD) rallies 54% after major push to expand interoperability with AtomicDEX\n#russia #bitcoin #cryptocurrency #ethereum\nhttps://t.co/02AAM2lFrv\n\nTweet:\nDigital gold narrative valid as long as MicroStrategy holds Bitcoin, says exec\n#ukraine #cryptocurrency #coinbase #trading\nhttps://t.co/po6k83FZyz\n\nTweet:\nBTC/USD Prints Below 30250:  Sally Ho's Technical Analysis 27 June 2021 BTC\n#cryptocurrency #litecoin #russia #gold\nhttps://t.co/a0uTME00wY\n\nTweet:\nMeitu loses $17.3M on Bitcoin, gains $14.7M on Ether\n#trading #ELON #ukraine #news\nhttps://t.co/SaWxLHtDjX\n\nTweet:\nTreasury attempts to squeeze further crypto-related data sharing provisions in budget bill: Roll Call\n#russia #ethereum #trading #gold\nhttps://t.co/zLKGGDWiBD\n\nTweet:\nETH/USD Traders Monitoring 2666.78:  Sally Ho's Technical Analysis 7 July 2021 ETH\n#news #eth #ukraine #ethereum\nhttps://t.co/hwYoYav0NT\n\nTweet:\nJack Dorsey-led Block posts $1.5B in Q2 profits, BTC revenue down\n#litecoin #news #blockchain #ukraine\nhttps://t.co/xNudtsPxCP\n\nTweet:\nSouth Korean lawmakers inch closer to deal to delay crypto tax by one year\n#ripple #russia #cryptocurrency #blockchain\nhttps://t.co/AJ9BAcUAV0\n\nTweet:\nVectorspace AI (VXV) flies under the radar to new highs as big data becomes the ‘new’ oil\n#DOGE #gold #blockchain #russia\nhttps://t.co/QTsFv8z3Tw\n\nTweet:\nBeyond Bitcoin: The future of digital assets is bigger than the first crypto\n#coinbase #gold #russia #bitcoin\nhttps://t.co/erxpkC0Ykj\n\nTweet:\nEthereum futures and options data reflects traders’ mixed emotions on $3.2K ETH price\n#gold #russia #coinbase #trading\nhttps://t.co/loO73M3h0v\n\nTweet:\nBTC/USD Seeks To Add to Recent Recovery: Sally Ho's Technical Analysis 2 July 2021 BTC\n#ethereum #litecoin #ELON #russia\nhttps://t.co/mbcrBt6RBo\n\nTweet:\nEthereum Name Service’s new token already has a fully diluted cap of $3.1B\n#trading #coinbase #binance #russia\nhttps://t.co/NLNNu1Fg1w\n\nTweet:\nBitcoin Price Prediction – A Move Back Through to $33,000 Levels to Avoid Another Loss\n#btc #ukraine #news #blockchain\nhttps://t.co/CF7Oft6169\n\nTweet:\nWen Lambo fixed? Mechanic receives first payment in Bitcoin to mend Lamborghini\n#ripple #binance #ukraine #bitcoin\nhttps://t.co/eZM3APSNml\n\nTweet:\nMining Capital Coin CEO accused of $62M investment fraud scheme\n#ukraine #ethereum #DOGE #coinbase\nhttps://t.co/OU7WoUvLBL\n\nTweet:\nWhat else is moving as Bitcoin price inches toward a new ATH?\n#binance #gold #ukraine #ethereum\nhttps://t.co/vK6vtpnodW\n\nTweet:\nCrypto community responds to Charlie Munger yelling at Bitcoin again\n#ELON #cryptocurrency #gold #ukraine\nhttps://t.co/C25ThEPrjf\n\nTweet:\nTop 5 cryptocurrencies to watch this week: BTC, XRP, CRO, FTT, THETA\n#russia #news #btc #cryptocurrency\nhttps://t.co/7yvHZoSG8Z\n\nTweet:\nPrice analysis 2/4: BTC, ETH, BNB, ADA, SOL, XRP, LUNA, DOGE, DOT, AVAX\n#russia #news #ethereum #cryptocurrency\nhttps://t.co/Jydo4TXIoy\n\nTweet:\nAltcoin Roundup: 3 portfolio trackers NFT and DeFi investors can use to stay organized\n#binance #russia #ukraine #ELON\nhttps://t.co/2kzQ6qWlzS\n\nTweet:\nKey Claims In Class Action Suit Against Tether Dismissed\n#crypto #cryptocurrency #russia #DOGE\nhttps://t.co/4rQkvFc3PU\n\nTweet:\nCardano Last Week: Launch Date Confirmed, Concurrency Issues, ADA Plummets And More\n#ukraine #eth #litecoin #btc\nhttps://t.co/PXpM6xCWzx\n\nTweet:\nBack to back all-time highs from AVAX, ENJ and EGLD suggest it’s ‘altseason’\n#DOGE #ripple #litecoin #russia\nhttps://t.co/crWlAonNEq\n\nTweet:\nAxie Infinity is painting a giant bearish pattern — will AXS price crash another 95%?\n#russia #cryptocurrency #trading #eth\nhttps://t.co/uNzy6IEgHM\n\nTweet:\nBonhams SuperRare collaboration a first of its kind\n#ethereum #ukraine #cryptocurrency #eth\nhttps://t.co/d7ssMxIQnb\n\nTweet:\nLoopring (LRC) price surges by 50% after GameStop NFT marketplace integration\n#litecoin #DOGE #ukraine #crypto\nhttps://t.co/Rkd5Xv6V1n\n\nTweet:\nCryptocurrency trading volumes slump 40% in June, data shows\n#crypto #ethereum #ukraine #news\nhttps://t.co/4Wn3MqoVGW\n\nTweet:\nJuly 8th 2021: Dollar Index Unmoved Following Fed Minutes\n#coinbase #ripple #blockchain #ukraine\nhttps://t.co/kQQYh0SV6d\n\nTweet:\nPrice analysis 9/27: BTC, ETH, ADA, BNB, XRP, SOL, DOT, DOGE, AVAX, LUNA\n#btc #binance #russia #ethereum\nhttps://t.co/WTrhLAuc0p\n\nUser\n\nUsername: patriot_singles\n\nTweet:\n@TimInHonolulu The only answer can be #Article5 and send #NATO Airforce to finish the job. Period\n\nTweet:\n🇩🇪 German government, together with the EU, has procured 225 Vulcano high-precision bullets for the armed forces of #Ukraine.\n\nThis type of artillery shell can destroy targets at a distance of up to 120 km.\n\nTold ya guys, something is going on behind the scenes 😎 https://t.co/g0G8IjrFmE\n\nUser\n\nUsername: kimtcadwell\n\nTweet:\nWhatever it takes to get the ruzzian invaders out of Ukraine.\nWhatever it takes to protect Ukrainians from the unconscionable ruzzian attacks &amp; behaviour.\n\nRuzzian terrorists OUT of Ukraine NOW.\n\n#russiaisateroriststate https://t.co/WQYP6KxMdF\n\nTweet:\nLooks great to me. If you give it; gotta be willing to take it. \nI believe the target is only military, not a train station with families mass evacuating, or a hospital, or a school...\n\nGet ruZZia out of Ukraine NOW 🇺🇦\n\n#Belgorod #Russia \n#GenocideOfUkrainians \n#CrimeaIsUkraine https://t.co/EefCqbEYQb\n\nTweet:\n@ukraine_world @ZelenskyyUa @washingtonpost Pleased to see President Zelenskyy looking healthier. \nSir, you have my utmost admiration &amp; respect. You, your team, and Ukraine. \nI sincerely look forward to visiting Ukraine in the not too distant future. \n#ArmUkraineNow \n#CrimeaIsUkraine 🇺🇦\n#SlavaUkraini 🇺🇦\n@ZelenskaUA\n\nTweet:\n@officejjsmart Pure understated, dazzling class. Brilliant.\nEstonia, Finland, Romania; these countries have just wowed me over the last few months. \n\n#GenocideOfUkrainians \n#russiaisateroriststate \n#SlavaUkraini 🇺🇦\n\nTweet:\n@GicAriana Wow. Which country was this? What nationality is the umpire?\n\nAnd who was the ruZZian tennis player who complained to the umpire?\n\n#SlavaUkraini\n\nTweet:\nFACTS:\n🩸 russia invaded 🇺🇦\n🩸 russia commits genocide in 🇺🇦\n🩸 russia bombs civilians in 🇺🇦\n🩸 russia seize Zaporizhzhia Plant hostage 🇺🇦\n\nrussia is threatening democide, ecocide &amp; global famine.\nWake up world! ⏰\n@BBCWorld \n#RussiaIsATerroristState https://t.co/BejyOylkUT\n\nTweet:\n@Russia @Amb_Ulyanov @russiabeyond @RussiaTravelEN @rusmania_travel @WorldTourisms @travel_insights @RussiaTrek @GoRussiaTravel @RSGovUK If it 'takes a lifetime to explore even a part of it', why are so many russians insistent on being out of it on every vacation they have?\n#Russia\n\nTweet:\n@IuliiaMendel @JohnReedwrites @ZelenskyyUa @ZelenskaUA I have reconsidered.\nI feel that all democratic leaders should boycott #G20 in Indonesia if #putin / #ruZZia is there.\n\n@POTUS @SecBlinken @jensstoltenberg @AlboMP @JustinTrudeau @kishida230 @vonderleyen \n@eucopresident @benwallace @EmmanuelMacron\n@DmytroKuleba\n\nTweet:\n@Siemens_Energy Shame it took a dent in your PR for you to 'realise' this.\n#Germany #siemensenergy #Russia \n\n#StandWithUkraine \n#GenocideOfUkrainians \n#russiaisateroriststate\n\nTweet:\n@andreasholger22 @na_intel I think that often as well. Of course, I want ruZZia out of Ukraine now, but when I watch this I think to myself, is that too much ammo to take out 1 tank. \nObviously, I know nothing, I'm just sharing my thought. \n#SlavaUkraini\n\nTweet:\n@OlenaHalushka The terrorist state of russia &amp; member of the UN Security Council, has repeatedly threatened EU countries w nuclear attack.\nThe #UN member is currently holding the largest nuclear plant in Europe hostage.\nA tragic, dystopian farce. \n\n@antonioguterres @jensstoltenberg @SecBlinken\n\nTweet:\n@anders_aslund @ZelenskyyUa Forget a Ukrainian reciprocal act. \nI second the removal of this debris from the world; and I am not Ukrainian. \nAnd just to mention, if something were ever to happen to Zelenskyy, mr putin would not be long for this world, that is a given.\n#Putin\n\nTweet:\n@visegrad24 Just one?\n\n#RussiaIsATerroristState \n#ruZZia\n#RussiaIsATerrorristState\n\nTweet:\n@Amb_Ulyanov You inadequate fool. \n\nruZZia started this.\nWe (yes, we - and I'm not Ukrainian) are going to finish this. \n\nGet the ruZZian child killers, rapists, murderers, terrorists OUT of Ukraine NOW.\n\n#RussiaIsATerroristState \n#GenocideOfUkrainians \n#JusticeforUkraine\n#ArmUkraineNow\n\nTweet:\nYou inadequate fool. \nruZZia started this.\nWe (yes, we - and I'm not Ukrainian) are going to finish this. \nGet the ruZZian child killers, rapists, murderers, terrorists OUT of Ukraine NOW.\n\n#RussiaIsATerroristState \n#JusticeforUkraine\n#ArmUkraineNow \n@RussianEmbassy @Amb_Ulyanov https://t.co/wEdEyCI4ZE\n\nTweet:\n@shaunwalker7 Pure evil, a given.\n\nBut today I realise I have never before witnessed a nation of such utter clowns &amp; buffoons. If they weren't so evil, they would make prime time skit entertainment. Their lack of awareness is tragic. \n\n#Russia\n#RussiaIsATerroristState \n#GenocideOfUkrainians\n\nTweet:\nSickening. Where in Greece is she?\n\n#GenocideOfUkrainians \n#novisas4russia\n#CrimesAgainstHumanity #Russia https://t.co/v4rMFTjwxU\n"
     ]
    }
   ],
   "source": [
    "# create key-value objects:  key is username, value is a tuple with info of each tweet\n",
    "# turn the dataframe into an RDD into order to use map\n",
    "user_tweets = non_rt_tweets.rdd.map(lambda x : ((x.username), \\\n",
    "                                                (x.acctdesc, \\\n",
    "                                                x.location, \\\n",
    "                                                x.following, \\\n",
    "                                                x.followers, \\\n",
    "                                                x.totaltweets, \\\n",
    "                                                x.usercreatedts, \\\n",
    "                                                x.text, \\\n",
    "                                                x.tweetcreatedts, \\\n",
    "                                                x.retweetcount, \\\n",
    "                                                x.hashtags, \\\n",
    "                                                x.favorite_count)))\n",
    "\n",
    "\n",
    "# group all tweets by same account together\n",
    "user_tweets_grouped = user_tweets.groupByKey()\n",
    "\n",
    "for record in user_tweets_grouped.take(5):\n",
    "    print(\"\\nUser\\n\")\n",
    "    print(\"Username: \" + record[0])\n",
    "    for tweet in record[1]:\n",
    "        print(\"\\nTweet:\")\n",
    "        print(tweet[6])"
   ]
  }
 ],
 "metadata": {
  "application/vnd.databricks.v1+notebook": {
   "dashboards": [],
   "language": "python",
   "notebookMetadata": {
    "mostRecentlyExecutedCommandWithImplicitDF": {
     "commandId": 338399960111880,
     "dataframes": [
      "_sqldf"
     ]
    },
    "pythonIndentUnit": 4
   },
   "notebookName": "SENG 550 Project",
   "widgets": {}
  }
 },
 "nbformat": 4,
 "nbformat_minor": 0
}
